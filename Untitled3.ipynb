{
  "nbformat": 4,
  "nbformat_minor": 0,
  "metadata": {
    "colab": {
      "provenance": [],
      "authorship_tag": "ABX9TyO17iB2LXWKjCdSMyqj8DDh",
      "include_colab_link": true
    },
    "kernelspec": {
      "name": "python3",
      "display_name": "Python 3"
    },
    "language_info": {
      "name": "python"
    }
  },
  "cells": [
    {
      "cell_type": "markdown",
      "metadata": {
        "id": "view-in-github",
        "colab_type": "text"
      },
      "source": [
        "<a href=\"https://colab.research.google.com/github/Dyari-Yadgar/l-jkg-yuj/blob/main/Untitled3.ipynb\" target=\"_parent\"><img src=\"https://colab.research.google.com/assets/colab-badge.svg\" alt=\"Open In Colab\"/></a>"
      ]
    },
    {
      "cell_type": "code",
      "execution_count": null,
      "metadata": {
        "id": "lQFYdv07stoW",
        "colab": {
          "base_uri": "https://localhost:8080/"
        },
        "outputId": "8ce10c6c-296c-4f7b-d05c-03f016681648"
      },
      "outputs": [
        {
          "output_type": "stream",
          "name": "stdout",
          "text": [
            "the error remaining is 0.026710986417661786, after 6 iteration \n",
            "(the root approximately found at -2.066340508963113\n",
            "-3\n"
          ]
        }
      ],
      "source": [
        "def false_Postion(func, a, b, error_accept):\n",
        "  def f(x):\n",
        "    f = eval(func)\n",
        "    return f\n",
        "\n",
        "\n",
        "  i=0\n",
        "  c_before = 0\n",
        "  c = (a * f(b) - b * f(a)) / (f(b) - f(a))\n",
        "  error = abs(c - c_before)\n",
        "\n",
        "  while error > error_accept:\n",
        "\n",
        "    c_after = (a * f(b) - b * f(a)) / (f(b) - f(a))\n",
        "\n",
        "    if  f(a) * f(b) >= 0:\n",
        "      print(\"there is no root\")\n",
        "      quit()\n",
        "\n",
        "      \n",
        "    elif  f(c_after) * f(a) < 0:\n",
        "      error = abs(c_after-b)\n",
        "      b = c_after\n",
        "      i = i+1\n",
        "\n",
        "\n",
        "    elif  f(c_after) * f(b) < 0:\n",
        "      error = abs(c_after-a)\n",
        "      a = c_after\n",
        "      i = i+1\n",
        "\n",
        "\n",
        "    else:\n",
        "      print(\"something wrong\")\n",
        "      quit()\n",
        "\n",
        "\n",
        "  print(f\"the error remaining is {error}, after {i} iteration \")   \n",
        "  print(f\"(the root approximately found at {c_after}\")\n",
        "  print(f\"{a}\")\n",
        "\n",
        "\n",
        "\n",
        "\n",
        "\n",
        "\n",
        "false_Postion(\"((x**3) + 9) \", -3,1,0.05)"
      ]
    }
  ]
}